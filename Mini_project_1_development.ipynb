{
 "cells": [
  {
   "cell_type": "code",
   "execution_count": 1,
   "metadata": {
    "collapsed": true
   },
   "outputs": [],
   "source": [
    "def get_complement(nucleotide):\n",
    "    \"\"\" Returns the complementary nucleotide\n",
    "\n",
    "        nucleotide: a nucleotide (A, C, G, or T) represented as a string\n",
    "        returns: the complementary nucleotide\n",
    "    >>> get_complement('A')\n",
    "    'T'\n",
    "    >>> get_complement('C')\n",
    "    'G'\n",
    "    >>> get_complement('G')\n",
    "    'C'\n",
    "    >>> get_complement('T')\n",
    "    'A'\n",
    "    \"\"\"\n",
    "    # TODO: implement this\n",
    "    if nucleotide == 'A':\n",
    "        return 'T'\n",
    "    elif nucleotide == 'T':\n",
    "        return 'A'\n",
    "    elif nucleotide == 'C':\n",
    "        return 'G'\n",
    "    elif nucleotide == 'G':\n",
    "        return 'C'"
   ]
  },
  {
   "cell_type": "code",
   "execution_count": 2,
   "metadata": {},
   "outputs": [
    {
     "data": {
      "text/plain": [
       "'T'"
      ]
     },
     "execution_count": 2,
     "metadata": {},
     "output_type": "execute_result"
    }
   ],
   "source": [
    "get_complement('A')"
   ]
  },
  {
   "cell_type": "code",
   "execution_count": 3,
   "metadata": {},
   "outputs": [
    {
     "data": {
      "text/plain": [
       "'p'"
      ]
     },
     "execution_count": 3,
     "metadata": {},
     "output_type": "execute_result"
    }
   ],
   "source": [
    "fruit = 'apple'\n",
    "fruit[1]"
   ]
  },
  {
   "cell_type": "code",
   "execution_count": 4,
   "metadata": {},
   "outputs": [
    {
     "data": {
      "text/plain": [
       "'p'"
      ]
     },
     "execution_count": 4,
     "metadata": {},
     "output_type": "execute_result"
    }
   ],
   "source": [
    "'apple'[1]"
   ]
  },
  {
   "cell_type": "code",
   "execution_count": 5,
   "metadata": {
    "collapsed": true
   },
   "outputs": [],
   "source": [
    "def get_reverse(dna):\n",
    "    \"\"\" Computes the reverse sequence of DNA for the specified DNA sequences\n",
    "\n",
    "        dna: a DNA sequence represented as a string\n",
    "        returns: the reverse DNA sequence represented as a string\n",
    "    >>> get_reverse(\"ATACCTGACGGT\")\n",
    "    'TGGCAGTCCATA'\n",
    "    \"\"\"\n",
    "    new_dna = dna[::-1]\n",
    "    return new_dna"
   ]
  },
  {
   "cell_type": "code",
   "execution_count": 6,
   "metadata": {},
   "outputs": [
    {
     "data": {
      "text/plain": [
       "'ATTGGCTA'"
      ]
     },
     "execution_count": 6,
     "metadata": {},
     "output_type": "execute_result"
    }
   ],
   "source": [
    "get_reverse('ATCGGTTA')"
   ]
  },
  {
   "cell_type": "code",
   "execution_count": 7,
   "metadata": {
    "collapsed": true
   },
   "outputs": [],
   "source": [
    "def get_reverse_complement(dna):\n",
    "    \"\"\" Computes the reverse complementary sequence of DNA for the specfied DNA\n",
    "        sequence\n",
    "\n",
    "        dna: a DNA sequence represented as a string\n",
    "        returns: the reverse complementary DNA sequence represented as a string\n",
    "    >>> get_reverse_complement(\"ATGCCCGCTTT\")\n",
    "    'AAAGCGGGCAT'\n",
    "    >>> get_reverse_complement(\"CCGCGTTCA\")\n",
    "    'TGAACGCGG'\n",
    "    \"\"\"\n",
    "    # TODO: implement this\n",
    "    new_dna = get_reverse(dna)\n",
    "    reverse_complement = ''\n",
    "    for letter in new_dna:\n",
    "        complement = get_complement(letter)\n",
    "        reverse_complement += complement\n",
    "\n",
    "    return reverse_complement\n",
    "    pass"
   ]
  },
  {
   "cell_type": "code",
   "execution_count": 8,
   "metadata": {},
   "outputs": [
    {
     "data": {
      "text/plain": [
       "'CTCCAGTGAAT'"
      ]
     },
     "execution_count": 8,
     "metadata": {},
     "output_type": "execute_result"
    }
   ],
   "source": [
    "get_reverse_complement('ATTCACTGGAG')"
   ]
  },
  {
   "cell_type": "code",
   "execution_count": 9,
   "metadata": {},
   "outputs": [
    {
     "data": {
      "text/plain": [
       "'fruit'"
      ]
     },
     "execution_count": 9,
     "metadata": {},
     "output_type": "execute_result"
    }
   ],
   "source": [
    "'fruit'[::]"
   ]
  },
  {
   "cell_type": "code",
   "execution_count": 10,
   "metadata": {
    "collapsed": true
   },
   "outputs": [],
   "source": [
    "def find(word, letter):\n",
    "    index = 0\n",
    "    while index < len(word):\n",
    "        if word[index] == letter:\n",
    "            return index\n",
    "        index = index + 1\n",
    "    return -1"
   ]
  },
  {
   "cell_type": "code",
   "execution_count": 11,
   "metadata": {},
   "outputs": [
    {
     "data": {
      "text/plain": [
       "1"
      ]
     },
     "execution_count": 11,
     "metadata": {},
     "output_type": "execute_result"
    }
   ],
   "source": [
    "find('word','o')"
   ]
  },
  {
   "cell_type": "code",
   "execution_count": 12,
   "metadata": {},
   "outputs": [
    {
     "data": {
      "text/plain": [
       "5"
      ]
     },
     "execution_count": 12,
     "metadata": {},
     "output_type": "execute_result"
    }
   ],
   "source": [
    "word = 'ATTDCATGATCC'\n",
    "word.find('ATG')"
   ]
  },
  {
   "cell_type": "code",
   "execution_count": 15,
   "metadata": {
    "collapsed": true
   },
   "outputs": [],
   "source": [
    "index = 0\n",
    "def find_word(word, letter):\n",
    "    index = 0\n",
    "    while index < len(word):\n",
    "        if word[index] == letter:\n",
    "            return index\n",
    "    return -1"
   ]
  },
  {
   "cell_type": "code",
   "execution_count": null,
   "metadata": {},
   "outputs": [],
   "source": [
    "\"bananabbadfa\"[4::]"
   ]
  },
  {
   "cell_type": "code",
   "execution_count": null,
   "metadata": {
    "collapsed": true
   },
   "outputs": [],
   "source": [
    "def find_stop_codon(dna):\n",
    "    index = 0\n",
    "    while index < len(dna):\n",
    "        if dna[index:index+3] == 'TAG':\n",
    "            return index\n",
    "        elif dna[index:index+3] == 'TAA':\n",
    "            return index\n",
    "        elif dna[index:index+3] == 'TGA':\n",
    "            return index\n",
    "        index = index + 1\n",
    "    return len(dna) \n"
   ]
  },
  {
   "cell_type": "code",
   "execution_count": null,
   "metadata": {
    "collapsed": true
   },
   "outputs": [],
   "source": [
    "number = find_stop_codon('CCTCGGCTACCGAG')"
   ]
  },
  {
   "cell_type": "code",
   "execution_count": null,
   "metadata": {},
   "outputs": [],
   "source": [
    "number"
   ]
  },
  {
   "cell_type": "code",
   "execution_count": null,
   "metadata": {},
   "outputs": [],
   "source": [
    "index = 3\n",
    "\"aasdfasdfa\"[index:index+3]"
   ]
  },
  {
   "cell_type": "code",
   "execution_count": null,
   "metadata": {
    "collapsed": true
   },
   "outputs": [],
   "source": [
    "def find_stop_codon(dna):\n",
    "    \"\"\"Takes a DNA sequence and search for a stop codon 'TAG' or 'TAA' or 'TGA'.\n",
    "    If there is a stop codon, returns index of first letter\n",
    "    of the stop codon. If there is no stop codon, return the index of the last letter in the sequence\n",
    "    >>> find_stop_codon('ATTCTAGCC')\n",
    "    '4'\n",
    "    >>> find_stop_codon('ATTCTACTAAGCC')\n",
    "    '7'\n",
    "    >>> find_stop_codon('CTACTGGATGACC')\n",
    "    '8'\n",
    "    >>> find_stop_codon('CCTCGGCTACG')\n",
    "    '11'\n",
    "    \"\"\"\n",
    "    index = 0\n",
    "    while index < len(dna):\n",
    "        if dna[index:index+3] == 'TAG':\n",
    "            return index\n",
    "        elif dna[index:index+3] == 'TAA':\n",
    "            return index\n",
    "        elif dna[index:index+3] == 'TGA':\n",
    "            return index\n",
    "        index = index + 1\n",
    "    return len(dna) "
   ]
  },
  {
   "cell_type": "code",
   "execution_count": null,
   "metadata": {},
   "outputs": [],
   "source": [
    "find_stop_codon('ATTCCATTGAATAGAA')"
   ]
  },
  {
   "cell_type": "code",
   "execution_count": null,
   "metadata": {},
   "outputs": [],
   "source": [
    "find_stop_codon('CCTCGGCTACG')"
   ]
  },
  {
   "cell_type": "code",
   "execution_count": null,
   "metadata": {},
   "outputs": [],
   "source": [
    "def rest_of_ORF(dna):\n",
    "    \"\"\" Takes a DNA sequence that is assumed to begin with a start\n",
    "        codon and returns the sequence up to but not including the\n",
    "        first in frame stop codon.  If there is no in frame stop codon,\n",
    "        returns the whole string.\n",
    "\n",
    "        dna: a DNA sequence\n",
    "        returns: the open reading frame represented as a string\n",
    "    >>> rest_of_ORF(\"ATGTGAA\")\n",
    "    'ATG'\n",
    "    >>> rest_of_ORF(\"ATGAGATAGG\")\n",
    "    'ATGAGA'\n",
    "    \"\"\"\n",
    "    # TODO: implement this\n",
    "    index = dna.find('ATG')\n",
    "    #print(index)\n",
    "    newindex = index+3\n",
    "    stop_index = find_stop_codon(dna[newindex:]) + newindex\n",
    "    #print(dna[newindex:])\n",
    "    #print(stop_index)\n",
    "    ORF = dna[index:stop_index]\n",
    "    return ORF\n",
    "\n",
    "    pass\n",
    "import doctest\n",
    "doctest.run_docstring_examples(rest_of_ORF, globals(), verbose = True)"
   ]
  },
  {
   "cell_type": "code",
   "execution_count": null,
   "metadata": {},
   "outputs": [],
   "source": [
    "rest_of_ORF('TACCATGAGATAGG')"
   ]
  },
  {
   "cell_type": "code",
   "execution_count": 18,
   "metadata": {},
   "outputs": [
    {
     "name": "stdout",
     "output_type": "stream",
     "text": [
      "Finding tests in NoName\n",
      "Trying:\n",
      "    find_start_codon_3('ATAATGAGG')\n",
      "Expecting:\n",
      "    3\n",
      "ok\n"
     ]
    }
   ],
   "source": [
    "def find_start_codon_3(dna):\n",
    "    \"\"\" Return the index of the start codon in the sequence. If there is no start codon, return None.\n",
    "\n",
    "      dna = a DNA sequences\n",
    "      returns: The index of the start codon if there is one. None if there is none.\n",
    "    >>> find_start_codon_3('ATAATGAGG')\n",
    "    3\n",
    "    \"\"\"\n",
    "\n",
    "    index = 0\n",
    "    while index < len(dna):\n",
    "        if dna[index:index+3] == 'ATG':\n",
    "            return index\n",
    "        else:\n",
    "            index += 3\n",
    "    return None\n",
    "import doctest\n",
    "doctest.run_docstring_examples(find_start_codon_3, globals(), verbose = True)"
   ]
  },
  {
   "cell_type": "code",
   "execution_count": 19,
   "metadata": {},
   "outputs": [
    {
     "data": {
      "text/plain": [
       "6"
      ]
     },
     "execution_count": 19,
     "metadata": {},
     "output_type": "execute_result"
    }
   ],
   "source": [
    "find_start_codon_3('AAATGCATG')"
   ]
  },
  {
   "cell_type": "code",
   "execution_count": 20,
   "metadata": {},
   "outputs": [
    {
     "name": "stdout",
     "output_type": "stream",
     "text": [
      "Finding tests in NoName\n",
      "Trying:\n",
      "    find_stop_codon_3('ATTTAGCC')\n",
      "Expecting:\n",
      "    3\n",
      "ok\n",
      "Trying:\n",
      "    find_stop_codon_3('ATTCTATAAGCC')\n",
      "Expecting:\n",
      "    6\n",
      "ok\n",
      "Trying:\n",
      "    find_stop_codon_3('CTACTGTGATGACC')\n",
      "Expecting:\n",
      "    6\n",
      "ok\n",
      "Trying:\n",
      "    find_stop_codon_3('CCTCGGCTACG')\n",
      "Expecting:\n",
      "    11\n",
      "ok\n"
     ]
    }
   ],
   "source": [
    "def find_stop_codon_3(dna):\n",
    "    \"\"\"Takes a DNA sequence and search for a stop codon 'TAG' or 'TAA' or 'TGA' in multiples of 3.\n",
    "    If there is a stop codon, returns index of first letter\n",
    "    of the stop codon. If there is no stop codon, return the index of the last letter in the sequence\n",
    "    >>> find_stop_codon_3('ATTTAGCC')\n",
    "    3\n",
    "    >>> find_stop_codon_3('ATTCTATAAGCC')\n",
    "    6\n",
    "    >>> find_stop_codon_3('CTACTGTGATGACC')\n",
    "    6\n",
    "    >>> find_stop_codon_3('CCTCGGCTACG')\n",
    "    11\n",
    "    \"\"\"\n",
    "    index = 0\n",
    "    while index < len(dna):\n",
    "        if dna[index:index+3] == 'TAG':\n",
    "            return index\n",
    "        elif dna[index:index+3] == 'TAA':\n",
    "            return index\n",
    "        elif dna[index:index+3] == 'TGA':\n",
    "            return index\n",
    "        index = index + 3\n",
    "    return len(dna) \n",
    "import doctest\n",
    "doctest.run_docstring_examples(find_stop_codon_3, globals(), verbose = True)"
   ]
  },
  {
   "cell_type": "code",
   "execution_count": 21,
   "metadata": {},
   "outputs": [
    {
     "name": "stdout",
     "output_type": "stream",
     "text": [
      "Finding tests in NoName\n",
      "Trying:\n",
      "    find_all_ORFs_oneframe(\"ATGCATGAATGTAGATAGATGTGCCC\")\n",
      "Expecting:\n",
      "    ['ATGCATGAATGTAGA', 'ATGTGCCC']\n",
      "ok\n",
      "Trying:\n",
      "    find_all_ORFs_oneframe(\"ATGCATTGACGATGATAGATGGATGTGCCCTAAGCC\")\n",
      "Expecting:\n",
      "    ['ATGCAT', 'ATGGATGTGCCC']\n",
      "ok\n",
      "Trying:\n",
      "    find_all_ORFs_oneframe(\"CCCAGGTTGATGCATTGACGATGATAGATGGATGTGCCCTAAGCC\")\n",
      "Expecting:\n",
      "    ['ATGCAT', 'ATGGATGTGCCC']\n",
      "ok\n"
     ]
    }
   ],
   "source": [
    "def find_all_ORFs_oneframe(dna):\n",
    "    \"\"\" Finds all non-nested open reading frames in the given DNA\n",
    "        sequence and returns them as a list.  This function should\n",
    "        only find ORFs that are in the default frame of the sequence\n",
    "        (i.e. they start on indices that are multiples of 3).\n",
    "        By non-nested we mean that if an ORF occurs entirely within\n",
    "        another ORF, it should not be included in the returned list of ORFs.\n",
    "\n",
    "        dna: a DNA sequence\n",
    "        returns: a list of non-nested ORFs\n",
    "    >>> find_all_ORFs_oneframe(\"ATGCATGAATGTAGATAGATGTGCCC\")\n",
    "    ['ATGCATGAATGTAGA', 'ATGTGCCC']\n",
    "    >>> find_all_ORFs_oneframe(\"ATGCATTGACGATGATAGATGGATGTGCCCTAAGCC\")\n",
    "    ['ATGCAT', 'ATGGATGTGCCC']\n",
    "    >>> find_all_ORFs_oneframe(\"CCCAGGTTGATGCATTGACGATGATAGATGGATGTGCCCTAAGCC\")\n",
    "    ['ATGCAT', 'ATGGATGTGCCC']\n",
    "    \"\"\"\n",
    "    # TODO: impldna[index_all::]ement this\n",
    "    index_all = 0\n",
    "    dna_list = []\n",
    "    while index_all < len(dna):\n",
    "        #print(index_all)\n",
    "        #print(dna[index_all::])\n",
    "        dna_search = dna[index_all:]\n",
    "        index = find_start_codon_3(dna_search)\n",
    "        if index != None:\n",
    "            new_dna = dna_search[index:]\n",
    "            stop_index = find_stop_codon_3(new_dna)\n",
    "            #print (stop_index)\n",
    "            #print(stop_index)\n",
    "            dna_list.append(new_dna[:stop_index])\n",
    "            \n",
    "        else:\n",
    "            return dna_list\n",
    "        index_all += stop_index +3 + index\n",
    "        #print(index_all)\n",
    "    return dna_list\n",
    "import doctest\n",
    "doctest.run_docstring_examples(find_all_ORFs_oneframe, globals(), verbose = True)"
   ]
  },
  {
   "cell_type": "code",
   "execution_count": 22,
   "metadata": {},
   "outputs": [
    {
     "data": {
      "text/plain": [
       "['ATGCAT', 'ATGGATGTGCCC']"
      ]
     },
     "execution_count": 22,
     "metadata": {},
     "output_type": "execute_result"
    }
   ],
   "source": [
    "find_all_ORFs_oneframe(\"ATGCATTGACGATGATAGATGGATGTGCCCTAAGCC\")"
   ]
  },
  {
   "cell_type": "code",
   "execution_count": 23,
   "metadata": {},
   "outputs": [
    {
     "data": {
      "text/plain": [
       "0"
      ]
     },
     "execution_count": 23,
     "metadata": {},
     "output_type": "execute_result"
    }
   ],
   "source": [
    "find_start_codon_3(\"ATGCATTGACGATGATAGATGGATGTGCCCTAAGCC\")"
   ]
  },
  {
   "cell_type": "code",
   "execution_count": 24,
   "metadata": {
    "collapsed": true
   },
   "outputs": [],
   "source": [
    "#if string.find('ATG')%3 !=0"
   ]
  },
  {
   "cell_type": "code",
   "execution_count": 25,
   "metadata": {},
   "outputs": [
    {
     "name": "stdout",
     "output_type": "stream",
     "text": [
      "Finding tests in NoName\n",
      "Trying:\n",
      "    find_all_ORFs(\"ATGCATGAATGTAG\")\n",
      "Expecting:\n",
      "    ['ATGCATGAATGTAG', 'ATGAATGTAG', 'ATG']\n",
      "ok\n"
     ]
    }
   ],
   "source": [
    "def find_all_ORFs(dna):\n",
    "    \"\"\" Finds all non-nested open reading frames in the given DNA sequence in\n",
    "        all 3 possible frames and returns them as a list.  By non-nested we\n",
    "        mean that if an ORF occurs entirely within another ORF and they are\n",
    "        both in the same frame, it should not be included in the returned list\n",
    "        of ORFs.\n",
    "\n",
    "        dna: a DNA sequence\n",
    "        returns: a list of non-nested ORFs\n",
    "\n",
    "    >>> find_all_ORFs(\"ATGCATGAATGTAG\")\n",
    "    ['ATGCATGAATGTAG', 'ATGAATGTAG', 'ATG']\n",
    "    \"\"\"\n",
    "\n",
    "    # TODO: implement this\n",
    "    list = []\n",
    "    new_list1 = find_all_ORFs_oneframe(dna) #find ORF by reading in multiples of 3\n",
    "    list += new_list1\n",
    "    new_list2 = find_all_ORFs_oneframe(dna[1:])\n",
    "    list += new_list2\n",
    "    new_list3 = find_all_ORFs_oneframe(dna[2:])\n",
    "    list += new_list3\n",
    "    return list\n",
    "\n",
    "    pass\n",
    "import doctest\n",
    "doctest.run_docstring_examples(find_all_ORFs, globals(), verbose = True)"
   ]
  },
  {
   "cell_type": "code",
   "execution_count": 26,
   "metadata": {},
   "outputs": [
    {
     "data": {
      "text/plain": [
       "['ATG']"
      ]
     },
     "execution_count": 26,
     "metadata": {},
     "output_type": "execute_result"
    }
   ],
   "source": [
    "find_all_ORFs_oneframe('GCATGAATGTAG')"
   ]
  },
  {
   "cell_type": "code",
   "execution_count": 27,
   "metadata": {},
   "outputs": [
    {
     "name": "stdout",
     "output_type": "stream",
     "text": [
      "Finding tests in NoName\n",
      "Trying:\n",
      "    find_all_ORFs(\"ATGCATGAATGTAG\")\n",
      "Expecting:\n",
      "    ['ATGCATGAATGTAG', 'ATGAATGTAG', 'ATG']\n",
      "ok\n"
     ]
    }
   ],
   "source": [
    "def find_all_ORFs_both_strands(dna):\n",
    "    \"\"\" Finds all non-nested open reading frames in the given DNA sequence on both\n",
    "        strands.\n",
    "\n",
    "        dna: a DNA sequence\n",
    "        returns: a list of non-nested ORFs\n",
    "    >>> find_all_ORFs_both_strands(\"ATGCGAATGTAGCATCAAA\")\n",
    "    ['ATGCGAATG', 'ATGCTACATTCGCAT']\n",
    "    \"\"\"\n",
    "    # TODO: implement this\n",
    "    list = []\n",
    "    new_list1 = find_all_ORFs(dna) #read it in 1 direction\n",
    "    list += new_list1\n",
    "    new_dna = get_reverse_complement(dna)\n",
    "    new_list2 = find_all_ORFs(new_dna)\n",
    "    list += new_list2\n",
    "    return list\n",
    "    pass\n",
    "import doctest\n",
    "doctest.run_docstring_examples(find_all_ORFs, globals(), verbose = True)"
   ]
  },
  {
   "cell_type": "code",
   "execution_count": 28,
   "metadata": {},
   "outputs": [
    {
     "name": "stdout",
     "output_type": "stream",
     "text": [
      "Finding tests in NoName\n",
      "Trying:\n",
      "    longest_ORF(\"ATGCGAATGTAGCATCAAA\")\n",
      "Expecting:\n",
      "    'ATGCTACATTCGCAT'\n",
      "ok\n",
      "Trying:\n",
      "    longest_ORF('ATCCGAATCTAGCAACAAA')\n",
      "Expecting:\n",
      "    '0'\n",
      "ok\n"
     ]
    }
   ],
   "source": [
    "def longest_ORF(dna):\n",
    "    \"\"\" Finds the longest ORF on both strands of the specified DNA and returns it\n",
    "        as a string\n",
    "    >>> longest_ORF(\"ATGCGAATGTAGCATCAAA\")\n",
    "    'ATGCTACATTCGCAT'\n",
    "    >>> longest_ORF('ATCCGAATCTAGCAACAAA')\n",
    "    '0'\n",
    "    \"\"\"\n",
    "    # TODO: implement this\n",
    "    list = find_all_ORFs_both_strands(dna)\n",
    "    if list != []:\n",
    "        #print(list)\n",
    "        longest_ORF = max(list)\n",
    "    else:\n",
    "        return '0'\n",
    "    return longest_ORF\n",
    "    pass\n",
    "import doctest\n",
    "doctest.run_docstring_examples(longest_ORF, globals(), verbose = True)"
   ]
  },
  {
   "cell_type": "code",
   "execution_count": 29,
   "metadata": {},
   "outputs": [
    {
     "data": {
      "text/plain": [
       "'TTTGTTGCTAGATTCGGAT'"
      ]
     },
     "execution_count": 29,
     "metadata": {},
     "output_type": "execute_result"
    }
   ],
   "source": [
    "get_reverse_complement('ATCCGAATCTAGCAACAAA')"
   ]
  },
  {
   "cell_type": "code",
   "execution_count": 30,
   "metadata": {},
   "outputs": [
    {
     "data": {
      "text/plain": [
       "'0'"
      ]
     },
     "execution_count": 30,
     "metadata": {},
     "output_type": "execute_result"
    }
   ],
   "source": [
    "longest_ORF('ATCCGAATCTAGCAACAAA')"
   ]
  },
  {
   "cell_type": "code",
   "execution_count": 31,
   "metadata": {},
   "outputs": [
    {
     "data": {
      "text/plain": [
       "'ATGCTACATTCGCAT'"
      ]
     },
     "execution_count": 31,
     "metadata": {},
     "output_type": "execute_result"
    }
   ],
   "source": [
    "longest_ORF(\"ATGCGAATGTAGCATCAAA\")"
   ]
  },
  {
   "cell_type": "code",
   "execution_count": 32,
   "metadata": {
    "collapsed": true
   },
   "outputs": [],
   "source": [
    "import random\n",
    "from amino_acids import aa, codons, aa_table   # you may find these useful\n",
    "from load import load_seq\n",
    "\n",
    "\n",
    "def shuffle_string(s):\n",
    "    \"\"\"Shuffles the characters in the input string\n",
    "        NOTE: this is a helper function, you do not\n",
    "        have to modify this in any way \"\"\"\n",
    "    return ''.join(random.sample(s, len(s)))\n",
    "\n",
    "# YOU WILL START YOUR IMPLEMENTATION FROM HERE DOWN ###"
   ]
  },
  {
   "cell_type": "code",
   "execution_count": 33,
   "metadata": {},
   "outputs": [
    {
     "data": {
      "text/plain": [
       "'GGGTTACCATAAAACAAGT'"
      ]
     },
     "execution_count": 33,
     "metadata": {},
     "output_type": "execute_result"
    }
   ],
   "source": [
    "shuffle_string(\"ATGCGAATGTAGCATCAAA\")"
   ]
  },
  {
   "cell_type": "code",
   "execution_count": 34,
   "metadata": {
    "collapsed": true
   },
   "outputs": [],
   "source": [
    "def longest_ORF_noncoding(dna, num_trials):\n",
    "    \"\"\" Computes the maximum length of the longest ORF over num_trials shuffles\n",
    "        of the specfied DNA sequence\n",
    "\n",
    "        dna: a DNA sequence\n",
    "        num_trials: the number of random shuffles\n",
    "        returns: the maximum length longest ORF \"\"\"\n",
    "    list = []\n",
    "    for num in range(num_trials):\n",
    "        new_dna = shuffle_string(dna)\n",
    "        #print(\"new_dna\", new_dna)\n",
    "        ORF_longest = longest_ORF(new_dna)\n",
    "        #print(\"ORF_longest\", ORF_longest)\n",
    "        list.append(ORF_longest)\n",
    "        #print(\"list\", list)\n",
    "    if list != []:\n",
    "        longest_ORF_noncoding = max(list)\n",
    "    else: \n",
    "        return list\n",
    "    return longest_ORF_noncoding\n",
    "\n",
    "    pass"
   ]
  },
  {
   "cell_type": "code",
   "execution_count": 35,
   "metadata": {},
   "outputs": [
    {
     "data": {
      "text/plain": [
       "'ATGG'"
      ]
     },
     "execution_count": 35,
     "metadata": {},
     "output_type": "execute_result"
    }
   ],
   "source": [
    "longest_ORF_noncoding(\"ATGCGAATGTAGCATCAAA\", 5)"
   ]
  },
  {
   "cell_type": "code",
   "execution_count": 36,
   "metadata": {
    "collapsed": true
   },
   "outputs": [],
   "source": [
    "def longest_ORF(dna):\n",
    "    \"\"\" Finds the longest ORF on both strands of the specified DNA and returns it\n",
    "        as a string\n",
    "    >>> longest_ORF(\"ATGCGAATGTAGCATCAAA\")\n",
    "    'ATGCTACATTCGCAT'\n",
    "    >>> longest_ORF('ATCCGAATCTAGCAACAAA')\n",
    "    '0'\n",
    "    \"\"\"\n",
    "    # TODO: implement this\n",
    "    list = find_all_ORFs_both_strands(dna)\n",
    "    if list != []:\n",
    "        #print(list)\n",
    "        longest_ORF = max(list)\n",
    "    else:\n",
    "        return '0'\n",
    "    return longest_ORF\n",
    "    pass"
   ]
  },
  {
   "cell_type": "code",
   "execution_count": 40,
   "metadata": {},
   "outputs": [
    {
     "data": {
      "text/plain": [
       "'piningforthefjords'"
      ]
     },
     "execution_count": 40,
     "metadata": {},
     "output_type": "execute_result"
    }
   ],
   "source": [
    "t = ['pining', 'for', 'the', 'fjords']\n",
    "delimiter = ''\n",
    "s = delimiter.join(t)\n",
    "s"
   ]
  },
  {
   "cell_type": "code",
   "execution_count": 51,
   "metadata": {},
   "outputs": [
    {
     "name": "stdout",
     "output_type": "stream",
     "text": [
      "Finding tests in NoName\n",
      "Trying:\n",
      "    coding_strand_to_AA(\"ATGCGA\")\n",
      "Expecting:\n",
      "    'MR'\n",
      "ok\n",
      "Trying:\n",
      "    coding_strand_to_AA(\"ATGCCCGCTTT\")\n",
      "Expecting:\n",
      "    'MPA'\n",
      "ok\n"
     ]
    }
   ],
   "source": [
    "import random\n",
    "from amino_acids import aa, codons, aa_table   # you may find these useful\n",
    "from load import load_seq\n",
    "def coding_strand_to_AA(dna):\n",
    "    \"\"\" Computes the Protein encoded by a sequence of DNA.  This function\n",
    "        does not check for start and stop codons (it assumes that the input\n",
    "        DNA sequence represents an protein coding region).\n",
    "\n",
    "        dna: a DNA sequence represented as a string\n",
    "        returns: a string containing the sequence of amino acids encoded by the\n",
    "                 the input DNA fragment\n",
    "\n",
    "        >>> coding_strand_to_AA(\"ATGCGA\")\n",
    "        'MR'\n",
    "        >>> coding_strand_to_AA(\"ATGCCCGCTTT\")\n",
    "        'MPA'\n",
    "    \"\"\"\n",
    "    # TODO: implement this\n",
    "    index = 0\n",
    "    AA_sequence = ''\n",
    "    AA_list = []\n",
    "    while index + 3 <= len(dna):\n",
    "        \n",
    "        amino_acid = aa_table[dna[index:index+3]]\n",
    "        AA_list. append(amino_acid)\n",
    "        index += 3\n",
    "    AA = AA_sequence.join(AA_list)\n",
    "    return AA\n",
    "\n",
    "    pass\n",
    "import doctest\n",
    "doctest.run_docstring_examples(coding_strand_to_AA, globals(), verbose = True)"
   ]
  },
  {
   "cell_type": "code",
   "execution_count": 49,
   "metadata": {},
   "outputs": [
    {
     "data": {
      "text/plain": [
       "'MPA'"
      ]
     },
     "execution_count": 49,
     "metadata": {},
     "output_type": "execute_result"
    }
   ],
   "source": [
    "coding_strand_to_AA('ATGCCCGCTTT')"
   ]
  },
  {
   "cell_type": "code",
   "execution_count": null,
   "metadata": {
    "collapsed": true
   },
   "outputs": [],
   "source": []
  },
  {
   "cell_type": "code",
   "execution_count": null,
   "metadata": {
    "collapsed": true
   },
   "outputs": [],
   "source": []
  },
  {
   "cell_type": "code",
   "execution_count": null,
   "metadata": {
    "collapsed": true
   },
   "outputs": [],
   "source": []
  }
 ],
 "metadata": {
  "kernelspec": {
   "display_name": "Python 3",
   "language": "python",
   "name": "python3"
  },
  "language_info": {
   "codemirror_mode": {
    "name": "ipython",
    "version": 3
   },
   "file_extension": ".py",
   "mimetype": "text/x-python",
   "name": "python",
   "nbconvert_exporter": "python",
   "pygments_lexer": "ipython3",
   "version": "3.6.3"
  }
 },
 "nbformat": 4,
 "nbformat_minor": 2
}
